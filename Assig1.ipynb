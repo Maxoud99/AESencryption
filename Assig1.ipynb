{
  "nbformat": 4,
  "nbformat_minor": 0,
  "metadata": {
    "colab": {
      "name": "Assig1.ipynb",
      "provenance": [],
      "collapsed_sections": [],
      "toc_visible": true,
      "authorship_tag": "ABX9TyMM+1iN4biY3s+juNiwSO2g",
      "include_colab_link": true
    },
    "kernelspec": {
      "name": "python3",
      "display_name": "Python 3"
    },
    "language_info": {
      "name": "python"
    }
  },
  "cells": [
    {
      "cell_type": "markdown",
      "metadata": {
        "id": "view-in-github",
        "colab_type": "text"
      },
      "source": [
        "<a href=\"https://colab.research.google.com/github/Maxoud99/AESencryption/blob/master/Assig1.ipynb\" target=\"_parent\"><img src=\"https://colab.research.google.com/assets/colab-badge.svg\" alt=\"Open In Colab\"/></a>"
      ]
    },
    {
      "cell_type": "code",
      "execution_count": 3,
      "metadata": {
        "colab": {
          "base_uri": "https://localhost:8080/"
        },
        "id": "qIAHCJhB1tU3",
        "outputId": "38d58754-933a-46e7-f396-b725983b1570"
      },
      "outputs": [
        {
          "output_type": "stream",
          "name": "stdout",
          "text": [
            "Found existing installation: pycrypto 2.6.1\n",
            "Uninstalling pycrypto-2.6.1:\n",
            "  Would remove:\n",
            "    /usr/local/lib/python3.7/dist-packages/Crypto/*\n",
            "    /usr/local/lib/python3.7/dist-packages/pycrypto-2.6.1.dist-info/*\n",
            "  Would not remove (might be manually added):\n",
            "    /usr/local/lib/python3.7/dist-packages/Crypto/Cipher/AES.pyi\n",
            "    /usr/local/lib/python3.7/dist-packages/Crypto/Cipher/ARC2.pyi\n",
            "    /usr/local/lib/python3.7/dist-packages/Crypto/Cipher/ARC4.pyi\n",
            "    /usr/local/lib/python3.7/dist-packages/Crypto/Cipher/Blowfish.pyi\n",
            "    /usr/local/lib/python3.7/dist-packages/Crypto/Cipher/CAST.pyi\n",
            "    /usr/local/lib/python3.7/dist-packages/Crypto/Cipher/ChaCha20.py\n",
            "    /usr/local/lib/python3.7/dist-packages/Crypto/Cipher/ChaCha20.pyi\n",
            "    /usr/local/lib/python3.7/dist-packages/Crypto/Cipher/ChaCha20_Poly1305.py\n",
            "    /usr/local/lib/python3.7/dist-packages/Crypto/Cipher/ChaCha20_Poly1305.pyi\n",
            "    /usr/local/lib/python3.7/dist-packages/Crypto/Cipher/DES.pyi\n",
            "    /usr/local/lib/python3.7/dist-packages/Crypto/Cipher/DES3.pyi\n",
            "    /usr/local/lib/python3.7/dist-packages/Crypto/Cipher/PKCS1_OAEP.pyi\n",
            "    /usr/local/lib/python3.7/dist-packages/Crypto/Cipher/PKCS1_v1_5.pyi\n",
            "    /usr/local/lib/python3.7/dist-packages/Crypto/Cipher/Salsa20.py\n",
            "    /usr/local/lib/python3.7/dist-packages/Crypto/Cipher/Salsa20.pyi\n",
            "    /usr/local/lib/python3.7/dist-packages/Crypto/Cipher/_ARC4.abi3.so\n",
            "    /usr/local/lib/python3.7/dist-packages/Crypto/Cipher/_EKSBlowfish.py\n",
            "    /usr/local/lib/python3.7/dist-packages/Crypto/Cipher/_EKSBlowfish.pyi\n",
            "    /usr/local/lib/python3.7/dist-packages/Crypto/Cipher/_Salsa20.abi3.so\n",
            "    /usr/local/lib/python3.7/dist-packages/Crypto/Cipher/__init__.pyi\n",
            "    /usr/local/lib/python3.7/dist-packages/Crypto/Cipher/_chacha20.abi3.so\n",
            "    /usr/local/lib/python3.7/dist-packages/Crypto/Cipher/_mode_cbc.py\n",
            "    /usr/local/lib/python3.7/dist-packages/Crypto/Cipher/_mode_cbc.pyi\n",
            "    /usr/local/lib/python3.7/dist-packages/Crypto/Cipher/_mode_ccm.py\n",
            "    /usr/local/lib/python3.7/dist-packages/Crypto/Cipher/_mode_ccm.pyi\n",
            "    /usr/local/lib/python3.7/dist-packages/Crypto/Cipher/_mode_cfb.py\n",
            "    /usr/local/lib/python3.7/dist-packages/Crypto/Cipher/_mode_cfb.pyi\n",
            "    /usr/local/lib/python3.7/dist-packages/Crypto/Cipher/_mode_ctr.py\n",
            "    /usr/local/lib/python3.7/dist-packages/Crypto/Cipher/_mode_ctr.pyi\n",
            "    /usr/local/lib/python3.7/dist-packages/Crypto/Cipher/_mode_eax.py\n",
            "    /usr/local/lib/python3.7/dist-packages/Crypto/Cipher/_mode_eax.pyi\n",
            "    /usr/local/lib/python3.7/dist-packages/Crypto/Cipher/_mode_ecb.py\n",
            "    /usr/local/lib/python3.7/dist-packages/Crypto/Cipher/_mode_ecb.pyi\n",
            "    /usr/local/lib/python3.7/dist-packages/Crypto/Cipher/_mode_gcm.py\n",
            "    /usr/local/lib/python3.7/dist-packages/Crypto/Cipher/_mode_gcm.pyi\n",
            "    /usr/local/lib/python3.7/dist-packages/Crypto/Cipher/_mode_ocb.py\n",
            "    /usr/local/lib/python3.7/dist-packages/Crypto/Cipher/_mode_ocb.pyi\n",
            "    /usr/local/lib/python3.7/dist-packages/Crypto/Cipher/_mode_ofb.py\n",
            "    /usr/local/lib/python3.7/dist-packages/Crypto/Cipher/_mode_ofb.pyi\n",
            "    /usr/local/lib/python3.7/dist-packages/Crypto/Cipher/_mode_openpgp.py\n",
            "    /usr/local/lib/python3.7/dist-packages/Crypto/Cipher/_mode_openpgp.pyi\n",
            "    /usr/local/lib/python3.7/dist-packages/Crypto/Cipher/_mode_siv.py\n",
            "    /usr/local/lib/python3.7/dist-packages/Crypto/Cipher/_mode_siv.pyi\n",
            "    /usr/local/lib/python3.7/dist-packages/Crypto/Cipher/_pkcs1_decode.abi3.so\n",
            "    /usr/local/lib/python3.7/dist-packages/Crypto/Cipher/_raw_aes.abi3.so\n",
            "    /usr/local/lib/python3.7/dist-packages/Crypto/Cipher/_raw_aesni.abi3.so\n",
            "    /usr/local/lib/python3.7/dist-packages/Crypto/Cipher/_raw_arc2.abi3.so\n",
            "    /usr/local/lib/python3.7/dist-packages/Crypto/Cipher/_raw_blowfish.abi3.so\n",
            "    /usr/local/lib/python3.7/dist-packages/Crypto/Cipher/_raw_cast.abi3.so\n",
            "    /usr/local/lib/python3.7/dist-packages/Crypto/Cipher/_raw_cbc.abi3.so\n",
            "    /usr/local/lib/python3.7/dist-packages/Crypto/Cipher/_raw_cfb.abi3.so\n",
            "    /usr/local/lib/python3.7/dist-packages/Crypto/Cipher/_raw_ctr.abi3.so\n",
            "    /usr/local/lib/python3.7/dist-packages/Crypto/Cipher/_raw_des.abi3.so\n",
            "    /usr/local/lib/python3.7/dist-packages/Crypto/Cipher/_raw_des3.abi3.so\n",
            "    /usr/local/lib/python3.7/dist-packages/Crypto/Cipher/_raw_ecb.abi3.so\n",
            "    /usr/local/lib/python3.7/dist-packages/Crypto/Cipher/_raw_eksblowfish.abi3.so\n",
            "    /usr/local/lib/python3.7/dist-packages/Crypto/Cipher/_raw_ocb.abi3.so\n",
            "    /usr/local/lib/python3.7/dist-packages/Crypto/Cipher/_raw_ofb.abi3.so\n",
            "    /usr/local/lib/python3.7/dist-packages/Crypto/Hash/BLAKE2b.py\n",
            "    /usr/local/lib/python3.7/dist-packages/Crypto/Hash/BLAKE2b.pyi\n",
            "    /usr/local/lib/python3.7/dist-packages/Crypto/Hash/BLAKE2s.py\n",
            "    /usr/local/lib/python3.7/dist-packages/Crypto/Hash/BLAKE2s.pyi\n",
            "    /usr/local/lib/python3.7/dist-packages/Crypto/Hash/CMAC.py\n",
            "    /usr/local/lib/python3.7/dist-packages/Crypto/Hash/CMAC.pyi\n",
            "    /usr/local/lib/python3.7/dist-packages/Crypto/Hash/HMAC.pyi\n",
            "    /usr/local/lib/python3.7/dist-packages/Crypto/Hash/KMAC128.py\n",
            "    /usr/local/lib/python3.7/dist-packages/Crypto/Hash/KMAC128.pyi\n",
            "    /usr/local/lib/python3.7/dist-packages/Crypto/Hash/KMAC256.py\n",
            "    /usr/local/lib/python3.7/dist-packages/Crypto/Hash/KMAC256.pyi\n",
            "    /usr/local/lib/python3.7/dist-packages/Crypto/Hash/KangarooTwelve.py\n",
            "    /usr/local/lib/python3.7/dist-packages/Crypto/Hash/KangarooTwelve.pyi\n",
            "    /usr/local/lib/python3.7/dist-packages/Crypto/Hash/MD2.pyi\n",
            "    /usr/local/lib/python3.7/dist-packages/Crypto/Hash/MD4.pyi\n",
            "    /usr/local/lib/python3.7/dist-packages/Crypto/Hash/MD5.pyi\n",
            "    /usr/local/lib/python3.7/dist-packages/Crypto/Hash/Poly1305.py\n",
            "    /usr/local/lib/python3.7/dist-packages/Crypto/Hash/Poly1305.pyi\n",
            "    /usr/local/lib/python3.7/dist-packages/Crypto/Hash/RIPEMD.pyi\n",
            "    /usr/local/lib/python3.7/dist-packages/Crypto/Hash/RIPEMD160.py\n",
            "    /usr/local/lib/python3.7/dist-packages/Crypto/Hash/RIPEMD160.pyi\n",
            "    /usr/local/lib/python3.7/dist-packages/Crypto/Hash/SHA.pyi\n",
            "    /usr/local/lib/python3.7/dist-packages/Crypto/Hash/SHA1.py\n",
            "    /usr/local/lib/python3.7/dist-packages/Crypto/Hash/SHA1.pyi\n",
            "    /usr/local/lib/python3.7/dist-packages/Crypto/Hash/SHA224.pyi\n",
            "    /usr/local/lib/python3.7/dist-packages/Crypto/Hash/SHA256.pyi\n",
            "    /usr/local/lib/python3.7/dist-packages/Crypto/Hash/SHA384.pyi\n",
            "    /usr/local/lib/python3.7/dist-packages/Crypto/Hash/SHA3_224.py\n",
            "    /usr/local/lib/python3.7/dist-packages/Crypto/Hash/SHA3_224.pyi\n",
            "    /usr/local/lib/python3.7/dist-packages/Crypto/Hash/SHA3_256.py\n",
            "    /usr/local/lib/python3.7/dist-packages/Crypto/Hash/SHA3_256.pyi\n",
            "    /usr/local/lib/python3.7/dist-packages/Crypto/Hash/SHA3_384.py\n",
            "    /usr/local/lib/python3.7/dist-packages/Crypto/Hash/SHA3_384.pyi\n",
            "    /usr/local/lib/python3.7/dist-packages/Crypto/Hash/SHA3_512.py\n",
            "    /usr/local/lib/python3.7/dist-packages/Crypto/Hash/SHA3_512.pyi\n",
            "    /usr/local/lib/python3.7/dist-packages/Crypto/Hash/SHA512.pyi\n",
            "    /usr/local/lib/python3.7/dist-packages/Crypto/Hash/SHAKE128.py\n",
            "    /usr/local/lib/python3.7/dist-packages/Crypto/Hash/SHAKE128.pyi\n",
            "    /usr/local/lib/python3.7/dist-packages/Crypto/Hash/SHAKE256.py\n",
            "    /usr/local/lib/python3.7/dist-packages/Crypto/Hash/SHAKE256.pyi\n",
            "    /usr/local/lib/python3.7/dist-packages/Crypto/Hash/TupleHash128.py\n",
            "    /usr/local/lib/python3.7/dist-packages/Crypto/Hash/TupleHash128.pyi\n",
            "    /usr/local/lib/python3.7/dist-packages/Crypto/Hash/TupleHash256.py\n",
            "    /usr/local/lib/python3.7/dist-packages/Crypto/Hash/TupleHash256.pyi\n",
            "    /usr/local/lib/python3.7/dist-packages/Crypto/Hash/_BLAKE2b.abi3.so\n",
            "    /usr/local/lib/python3.7/dist-packages/Crypto/Hash/_BLAKE2s.abi3.so\n",
            "    /usr/local/lib/python3.7/dist-packages/Crypto/Hash/_MD2.abi3.so\n",
            "    /usr/local/lib/python3.7/dist-packages/Crypto/Hash/_MD4.abi3.so\n",
            "    /usr/local/lib/python3.7/dist-packages/Crypto/Hash/_MD5.abi3.so\n",
            "    /usr/local/lib/python3.7/dist-packages/Crypto/Hash/_RIPEMD160.abi3.so\n",
            "    /usr/local/lib/python3.7/dist-packages/Crypto/Hash/_SHA1.abi3.so\n",
            "    /usr/local/lib/python3.7/dist-packages/Crypto/Hash/_SHA224.abi3.so\n",
            "    /usr/local/lib/python3.7/dist-packages/Crypto/Hash/_SHA256.abi3.so\n",
            "    /usr/local/lib/python3.7/dist-packages/Crypto/Hash/_SHA384.abi3.so\n",
            "    /usr/local/lib/python3.7/dist-packages/Crypto/Hash/_SHA512.abi3.so\n",
            "    /usr/local/lib/python3.7/dist-packages/Crypto/Hash/__init__.pyi\n",
            "    /usr/local/lib/python3.7/dist-packages/Crypto/Hash/_ghash_clmul.abi3.so\n",
            "    /usr/local/lib/python3.7/dist-packages/Crypto/Hash/_ghash_portable.abi3.so\n",
            "    /usr/local/lib/python3.7/dist-packages/Crypto/Hash/_keccak.abi3.so\n",
            "    /usr/local/lib/python3.7/dist-packages/Crypto/Hash/_poly1305.abi3.so\n",
            "    /usr/local/lib/python3.7/dist-packages/Crypto/Hash/cSHAKE128.py\n",
            "    /usr/local/lib/python3.7/dist-packages/Crypto/Hash/cSHAKE128.pyi\n",
            "    /usr/local/lib/python3.7/dist-packages/Crypto/Hash/cSHAKE256.py\n",
            "    /usr/local/lib/python3.7/dist-packages/Crypto/Hash/cSHAKE256.pyi\n",
            "    /usr/local/lib/python3.7/dist-packages/Crypto/Hash/keccak.py\n",
            "    /usr/local/lib/python3.7/dist-packages/Crypto/Hash/keccak.pyi\n",
            "    /usr/local/lib/python3.7/dist-packages/Crypto/IO/PEM.py\n",
            "    /usr/local/lib/python3.7/dist-packages/Crypto/IO/PEM.pyi\n",
            "    /usr/local/lib/python3.7/dist-packages/Crypto/IO/PKCS8.py\n",
            "    /usr/local/lib/python3.7/dist-packages/Crypto/IO/PKCS8.pyi\n",
            "    /usr/local/lib/python3.7/dist-packages/Crypto/IO/_PBES.py\n",
            "    /usr/local/lib/python3.7/dist-packages/Crypto/IO/_PBES.pyi\n",
            "    /usr/local/lib/python3.7/dist-packages/Crypto/IO/__init__.py\n",
            "    /usr/local/lib/python3.7/dist-packages/Crypto/Math/Numbers.py\n",
            "    /usr/local/lib/python3.7/dist-packages/Crypto/Math/Numbers.pyi\n",
            "    /usr/local/lib/python3.7/dist-packages/Crypto/Math/Primality.py\n",
            "    /usr/local/lib/python3.7/dist-packages/Crypto/Math/Primality.pyi\n",
            "    /usr/local/lib/python3.7/dist-packages/Crypto/Math/_IntegerBase.py\n",
            "    /usr/local/lib/python3.7/dist-packages/Crypto/Math/_IntegerBase.pyi\n",
            "    /usr/local/lib/python3.7/dist-packages/Crypto/Math/_IntegerCustom.py\n",
            "    /usr/local/lib/python3.7/dist-packages/Crypto/Math/_IntegerCustom.pyi\n",
            "    /usr/local/lib/python3.7/dist-packages/Crypto/Math/_IntegerGMP.py\n",
            "    /usr/local/lib/python3.7/dist-packages/Crypto/Math/_IntegerGMP.pyi\n",
            "    /usr/local/lib/python3.7/dist-packages/Crypto/Math/_IntegerNative.py\n",
            "    /usr/local/lib/python3.7/dist-packages/Crypto/Math/_IntegerNative.pyi\n",
            "    /usr/local/lib/python3.7/dist-packages/Crypto/Math/__init__.py\n",
            "    /usr/local/lib/python3.7/dist-packages/Crypto/Math/_modexp.abi3.so\n",
            "    /usr/local/lib/python3.7/dist-packages/Crypto/Protocol/KDF.pyi\n",
            "    /usr/local/lib/python3.7/dist-packages/Crypto/Protocol/SecretSharing.py\n",
            "    /usr/local/lib/python3.7/dist-packages/Crypto/Protocol/SecretSharing.pyi\n",
            "    /usr/local/lib/python3.7/dist-packages/Crypto/Protocol/__init__.pyi\n",
            "    /usr/local/lib/python3.7/dist-packages/Crypto/Protocol/_scrypt.abi3.so\n",
            "    /usr/local/lib/python3.7/dist-packages/Crypto/PublicKey/DSA.pyi\n",
            "    /usr/local/lib/python3.7/dist-packages/Crypto/PublicKey/ECC.py\n",
            "    /usr/local/lib/python3.7/dist-packages/Crypto/PublicKey/ECC.pyi\n",
            "    /usr/local/lib/python3.7/dist-packages/Crypto/PublicKey/ElGamal.pyi\n",
            "    /usr/local/lib/python3.7/dist-packages/Crypto/PublicKey/RSA.pyi\n",
            "    /usr/local/lib/python3.7/dist-packages/Crypto/PublicKey/__init__.pyi\n",
            "    /usr/local/lib/python3.7/dist-packages/Crypto/PublicKey/_ec_ws.abi3.so\n",
            "    /usr/local/lib/python3.7/dist-packages/Crypto/PublicKey/_openssh.py\n",
            "    /usr/local/lib/python3.7/dist-packages/Crypto/PublicKey/_openssh.pyi\n",
            "    /usr/local/lib/python3.7/dist-packages/Crypto/Random/__init__.pyi\n",
            "    /usr/local/lib/python3.7/dist-packages/Crypto/Random/random.pyi\n",
            "    /usr/local/lib/python3.7/dist-packages/Crypto/SelfTest/Cipher/test_CBC.py\n",
            "    /usr/local/lib/python3.7/dist-packages/Crypto/SelfTest/Cipher/test_CCM.py\n",
            "    /usr/local/lib/python3.7/dist-packages/Crypto/SelfTest/Cipher/test_CFB.py\n",
            "    /usr/local/lib/python3.7/dist-packages/Crypto/SelfTest/Cipher/test_CTR.py\n",
            "    /usr/local/lib/python3.7/dist-packages/Crypto/SelfTest/Cipher/test_ChaCha20.py\n",
            "    /usr/local/lib/python3.7/dist-packages/Crypto/SelfTest/Cipher/test_ChaCha20_Poly1305.py\n",
            "    /usr/local/lib/python3.7/dist-packages/Crypto/SelfTest/Cipher/test_EAX.py\n",
            "    /usr/local/lib/python3.7/dist-packages/Crypto/SelfTest/Cipher/test_GCM.py\n",
            "    /usr/local/lib/python3.7/dist-packages/Crypto/SelfTest/Cipher/test_OCB.py\n",
            "    /usr/local/lib/python3.7/dist-packages/Crypto/SelfTest/Cipher/test_OFB.py\n",
            "    /usr/local/lib/python3.7/dist-packages/Crypto/SelfTest/Cipher/test_OpenPGP.py\n",
            "    /usr/local/lib/python3.7/dist-packages/Crypto/SelfTest/Cipher/test_SIV.py\n",
            "    /usr/local/lib/python3.7/dist-packages/Crypto/SelfTest/Cipher/test_Salsa20.py\n",
            "    /usr/local/lib/python3.7/dist-packages/Crypto/SelfTest/Hash/test_BLAKE2.py\n",
            "    /usr/local/lib/python3.7/dist-packages/Crypto/SelfTest/Hash/test_CMAC.py\n",
            "    /usr/local/lib/python3.7/dist-packages/Crypto/SelfTest/Hash/test_KMAC.py\n",
            "    /usr/local/lib/python3.7/dist-packages/Crypto/SelfTest/Hash/test_KangarooTwelve.py\n",
            "    /usr/local/lib/python3.7/dist-packages/Crypto/SelfTest/Hash/test_Poly1305.py\n",
            "    /usr/local/lib/python3.7/dist-packages/Crypto/SelfTest/Hash/test_RIPEMD160.py\n",
            "    /usr/local/lib/python3.7/dist-packages/Crypto/SelfTest/Hash/test_SHA1.py\n",
            "    /usr/local/lib/python3.7/dist-packages/Crypto/SelfTest/Hash/test_SHA3_224.py\n",
            "    /usr/local/lib/python3.7/dist-packages/Crypto/SelfTest/Hash/test_SHA3_256.py\n",
            "    /usr/local/lib/python3.7/dist-packages/Crypto/SelfTest/Hash/test_SHA3_384.py\n",
            "    /usr/local/lib/python3.7/dist-packages/Crypto/SelfTest/Hash/test_SHA3_512.py\n",
            "    /usr/local/lib/python3.7/dist-packages/Crypto/SelfTest/Hash/test_SHAKE.py\n",
            "    /usr/local/lib/python3.7/dist-packages/Crypto/SelfTest/Hash/test_TupleHash.py\n",
            "    /usr/local/lib/python3.7/dist-packages/Crypto/SelfTest/Hash/test_cSHAKE.py\n",
            "    /usr/local/lib/python3.7/dist-packages/Crypto/SelfTest/Hash/test_keccak.py\n",
            "    /usr/local/lib/python3.7/dist-packages/Crypto/SelfTest/IO/__init__.py\n",
            "    /usr/local/lib/python3.7/dist-packages/Crypto/SelfTest/IO/test_PBES.py\n",
            "    /usr/local/lib/python3.7/dist-packages/Crypto/SelfTest/IO/test_PKCS8.py\n",
            "    /usr/local/lib/python3.7/dist-packages/Crypto/SelfTest/Math/__init__.py\n",
            "    /usr/local/lib/python3.7/dist-packages/Crypto/SelfTest/Math/test_Numbers.py\n",
            "    /usr/local/lib/python3.7/dist-packages/Crypto/SelfTest/Math/test_Primality.py\n",
            "    /usr/local/lib/python3.7/dist-packages/Crypto/SelfTest/Math/test_modexp.py\n",
            "    /usr/local/lib/python3.7/dist-packages/Crypto/SelfTest/Protocol/test_SecretSharing.py\n",
            "    /usr/local/lib/python3.7/dist-packages/Crypto/SelfTest/PublicKey/test_ECC.py\n",
            "    /usr/local/lib/python3.7/dist-packages/Crypto/SelfTest/PublicKey/test_import_DSA.py\n",
            "    /usr/local/lib/python3.7/dist-packages/Crypto/SelfTest/PublicKey/test_import_ECC.py\n",
            "    /usr/local/lib/python3.7/dist-packages/Crypto/SelfTest/PublicKey/test_import_RSA.py\n",
            "    /usr/local/lib/python3.7/dist-packages/Crypto/SelfTest/Signature/test_dss.py\n",
            "    /usr/local/lib/python3.7/dist-packages/Crypto/SelfTest/Signature/test_pss.py\n",
            "    /usr/local/lib/python3.7/dist-packages/Crypto/SelfTest/Util/test_Padding.py\n",
            "    /usr/local/lib/python3.7/dist-packages/Crypto/SelfTest/Util/test_rfc1751.py\n",
            "    /usr/local/lib/python3.7/dist-packages/Crypto/SelfTest/Util/test_strxor.py\n",
            "    /usr/local/lib/python3.7/dist-packages/Crypto/SelfTest/__main__.py\n",
            "    /usr/local/lib/python3.7/dist-packages/Crypto/SelfTest/loader.py\n",
            "    /usr/local/lib/python3.7/dist-packages/Crypto/Signature/DSS.py\n",
            "    /usr/local/lib/python3.7/dist-packages/Crypto/Signature/DSS.pyi\n",
            "    /usr/local/lib/python3.7/dist-packages/Crypto/Signature/PKCS1_PSS.pyi\n",
            "    /usr/local/lib/python3.7/dist-packages/Crypto/Signature/PKCS1_v1_5.pyi\n",
            "    /usr/local/lib/python3.7/dist-packages/Crypto/Signature/pkcs1_15.py\n",
            "    /usr/local/lib/python3.7/dist-packages/Crypto/Signature/pkcs1_15.pyi\n",
            "    /usr/local/lib/python3.7/dist-packages/Crypto/Signature/pss.py\n",
            "    /usr/local/lib/python3.7/dist-packages/Crypto/Signature/pss.pyi\n",
            "    /usr/local/lib/python3.7/dist-packages/Crypto/Util/Counter.pyi\n",
            "    /usr/local/lib/python3.7/dist-packages/Crypto/Util/Padding.py\n",
            "    /usr/local/lib/python3.7/dist-packages/Crypto/Util/Padding.pyi\n",
            "    /usr/local/lib/python3.7/dist-packages/Crypto/Util/RFC1751.pyi\n",
            "    /usr/local/lib/python3.7/dist-packages/Crypto/Util/_cpu_features.py\n",
            "    /usr/local/lib/python3.7/dist-packages/Crypto/Util/_cpu_features.pyi\n",
            "    /usr/local/lib/python3.7/dist-packages/Crypto/Util/_cpuid_c.abi3.so\n",
            "    /usr/local/lib/python3.7/dist-packages/Crypto/Util/_file_system.py\n",
            "    /usr/local/lib/python3.7/dist-packages/Crypto/Util/_file_system.pyi\n",
            "    /usr/local/lib/python3.7/dist-packages/Crypto/Util/_raw_api.py\n",
            "    /usr/local/lib/python3.7/dist-packages/Crypto/Util/_raw_api.pyi\n",
            "    /usr/local/lib/python3.7/dist-packages/Crypto/Util/_strxor.abi3.so\n",
            "    /usr/local/lib/python3.7/dist-packages/Crypto/Util/asn1.pyi\n",
            "    /usr/local/lib/python3.7/dist-packages/Crypto/Util/number.pyi\n",
            "    /usr/local/lib/python3.7/dist-packages/Crypto/Util/py3compat.pyi\n",
            "    /usr/local/lib/python3.7/dist-packages/Crypto/Util/strxor.py\n",
            "    /usr/local/lib/python3.7/dist-packages/Crypto/Util/strxor.pyi\n",
            "    /usr/local/lib/python3.7/dist-packages/Crypto/__init__.pyi\n",
            "    /usr/local/lib/python3.7/dist-packages/Crypto/py.typed\n",
            "Proceed (y/n)? y\n",
            "  Successfully uninstalled pycrypto-2.6.1\n"
          ]
        }
      ],
      "source": [
        "! pip uninstall pycrypto\n",
        "# ! pip install base32hex  "
      ]
    },
    {
      "cell_type": "code",
      "source": [
        "! pip install pycryptodome"
      ],
      "metadata": {
        "colab": {
          "base_uri": "https://localhost:8080/"
        },
        "id": "tPmTlfzO2lzr",
        "outputId": "f27390dc-f683-4896-f1ee-280336853e2f"
      },
      "execution_count": 4,
      "outputs": [
        {
          "output_type": "stream",
          "name": "stdout",
          "text": [
            "Requirement already satisfied: pycryptodome in /usr/local/lib/python3.7/dist-packages (3.14.1)\n"
          ]
        }
      ]
    },
    {
      "cell_type": "code",
      "source": [
        "import base32hex\n",
        "import hashlib\n",
        "from Crypto.Util.Padding import pad, unpad\n",
        "from Crypto.Cipher import DES\n",
        "from secrets import token_bytes\n",
        "key= token_bytes(8)\n",
        "print(key)"
      ],
      "metadata": {
        "colab": {
          "base_uri": "https://localhost:8080/"
        },
        "id": "h2-rZ1pw17q_",
        "outputId": "a9d56ec2-c4bd-4d8c-f4f0-1175b57a88cd"
      },
      "execution_count": 35,
      "outputs": [
        {
          "output_type": "stream",
          "name": "stdout",
          "text": [
            "b'jr\\xa6\\x15\\x1a\\xc6|8'\n"
          ]
        }
      ]
    },
    {
      "cell_type": "code",
      "source": [
        "def ECB_encrypt(plain_txt):\n",
        "  cipher = DES.new(key, DES.MODE_ECB)\n",
        "  cipher_txt = cipher.encrypt(pad(plain_txt.encode('ascii'),DES.block_size))\n",
        "  return cipher_txt"
      ],
      "metadata": {
        "id": "EHJjl2sP2D-Y"
      },
      "execution_count": 45,
      "outputs": []
    },
    {
      "cell_type": "code",
      "source": [
        "def ECB_decrypt(cipher_text):\n",
        "  cipher = DES.new(key, DES.MODE_ECB)\n",
        "  plain_text = unpad(cipher.decrypt(cipher_text), DES.block_size)\n",
        "  return plain_text.decode('ascii')"
      ],
      "metadata": {
        "id": "WRnVgazh7oLm"
      },
      "execution_count": 52,
      "outputs": []
    },
    {
      "cell_type": "code",
      "source": [
        "cipher_text = ECB_encrypt(\"Hello homies\")\n",
        "print(cipher_text)"
      ],
      "metadata": {
        "colab": {
          "base_uri": "https://localhost:8080/"
        },
        "id": "Tz6Q9crE_ICz",
        "outputId": "1bbd9d51-9660-4892-f6c4-637d87fdbe48"
      },
      "execution_count": 55,
      "outputs": [
        {
          "output_type": "stream",
          "name": "stdout",
          "text": [
            "b'\\xb4\\x8c\\xf9p%I\\xf7~m7\\x0c\\xb6\\x9a\\xf4\\xef\\x7f'\n"
          ]
        }
      ]
    },
    {
      "cell_type": "code",
      "source": [
        "plain_text = ECB_decrypt(cipher_text)\n",
        "print(plain_text)"
      ],
      "metadata": {
        "colab": {
          "base_uri": "https://localhost:8080/"
        },
        "id": "IuHvMyT7EXjB",
        "outputId": "4e834aa5-f864-4b63-dd8e-23c4dd1c8314"
      },
      "execution_count": 56,
      "outputs": [
        {
          "output_type": "stream",
          "name": "stdout",
          "text": [
            "Hello homies\n"
          ]
        }
      ]
    },
    {
      "cell_type": "code",
      "source": [
        ""
      ],
      "metadata": {
        "id": "EtVGAW_fEZ38"
      },
      "execution_count": null,
      "outputs": []
    },
    {
      "cell_type": "markdown",
      "source": [
        "### Now lets try CBC"
      ],
      "metadata": {
        "id": "qxTjIbJmFKJz"
      }
    },
    {
      "cell_type": "code",
      "source": [
        "def CBC_encrypt(plain_txt):\n",
        "  cipher = DES.new(key, DES.MODE_CBC)\n",
        "  iv = cipher.iv\n",
        "  cipher_txt = cipher.encrypt(pad(plain_txt.encode('ascii'),DES.block_size))\n",
        "  return cipher_txt, iv"
      ],
      "metadata": {
        "id": "GFYsLP1G_0hH"
      },
      "execution_count": 69,
      "outputs": []
    },
    {
      "cell_type": "code",
      "source": [
        "def CBC_decrypt(cipher_text, iv):\n",
        "  cipher = DES.new(key, DES.MODE_CBC, iv)\n",
        "  plain_text = unpad(cipher.decrypt(cipher_text), DES.block_size)\n",
        "  return plain_text.decode('ascii')"
      ],
      "metadata": {
        "id": "cezR-L-CFDWU"
      },
      "execution_count": 70,
      "outputs": []
    },
    {
      "cell_type": "code",
      "source": [
        "cipher_text, iv = CBC_encrypt(\"Hello homies\")\n",
        "print(cipher_text)\n",
        "print(iv)"
      ],
      "metadata": {
        "colab": {
          "base_uri": "https://localhost:8080/"
        },
        "id": "hLzMT09qFZt6",
        "outputId": "87ab522e-a1ab-43ea-f52d-78b5906d4537"
      },
      "execution_count": 68,
      "outputs": [
        {
          "output_type": "stream",
          "name": "stdout",
          "text": [
            "b\"\\xc5\\x8d\\xd3\\xc5\\xc4\\xa4V\\xd6\\xb0>\\x83'l\\xee\\xbc\\x95\"\n",
            "b'o\\x1dd\\x19\\xb3r\\xd4\\xd2'\n"
          ]
        }
      ]
    },
    {
      "cell_type": "code",
      "source": [
        "plain_text = CBC_decrypt(cipher_text, iv)\n",
        "print(plain_text)"
      ],
      "metadata": {
        "colab": {
          "base_uri": "https://localhost:8080/"
        },
        "id": "6FLkSdI-FFwf",
        "outputId": "4a3ae78d-b9d8-4154-dfee-b841bd547776"
      },
      "execution_count": 71,
      "outputs": [
        {
          "output_type": "stream",
          "name": "stdout",
          "text": [
            "Hello homies\n"
          ]
        }
      ]
    },
    {
      "cell_type": "code",
      "source": [
        "file = open(filename, 'r')\n",
        "    text = file.read()"
      ],
      "metadata": {
        "id": "Nh-t_bgcJuJb"
      },
      "execution_count": null,
      "outputs": []
    }
  ]
}